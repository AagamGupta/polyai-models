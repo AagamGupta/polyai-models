{
  "nbformat": 4,
  "nbformat_minor": 0,
  "metadata": {
    "colab": {
      "name": "encoder-introduction.ipynb",
      "provenance": [],
      "collapsed_sections": [],
      "include_colab_link": true
    },
    "kernelspec": {
      "name": "python3",
      "display_name": "Python 3"
    },
    "accelerator": "GPU"
  },
  "cells": [
    {
      "cell_type": "markdown",
      "metadata": {
        "id": "view-in-github",
        "colab_type": "text"
      },
      "source": [
        "<a href=\"https://colab.research.google.com/gist/matthen/e76dccc14f37e7e584ff0ea3371e1f4a/polyai-encoder-tfhub.ipynb\" target=\"_parent\"><img src=\"https://colab.research.google.com/assets/colab-badge.svg\" alt=\"Open In Colab\"/></a>"
      ]
    },
    {
      "cell_type": "markdown",
      "metadata": {
        "id": "6VslZQSrMHCp",
        "colab_type": "text"
      },
      "source": [
        "# The PolyAI Encoder\n",
        "\n",
        "This notebook demonstrates how to use the PolyAI Encoder model, to encode sentences to a meaningful semantic space, and to rank responses in a conversation."
      ]
    },
    {
      "cell_type": "markdown",
      "metadata": {
        "id": "YVFi1UXcLwdo",
        "colab_type": "text"
      },
      "source": [
        "# Install dependencies\n",
        "\n",
        "The encoder model requires the subword tokenization ops from the [tensorflow.text](https://github.com/tensorflow/text) module to run. This is released for tensorflow 2.0 and 1.14. In this colab we opt for tf 1.14."
      ]
    },
    {
      "cell_type": "code",
      "metadata": {
        "id": "5v96iAgaGyKt",
        "colab_type": "code",
        "colab": {}
      },
      "source": [
        "!pip install tensorflow-gpu==1.14.0\n",
        "!pip install --no-deps tensorflow_text==0.1.0"
      ],
      "execution_count": 0,
      "outputs": []
    },
    {
      "cell_type": "code",
      "metadata": {
        "id": "KSyjAZvYHrRI",
        "colab_type": "code",
        "colab": {}
      },
      "source": [
        "# Import the required dependencies\n",
        "\n",
        "import tensorflow_hub as tfhub\n",
        "import tensorflow as tf\n",
        "import tensorflow_text  # required for tokenization ops\n",
        "\n",
        "sess = None\n",
        "\n",
        "assert tf.__version__ == \"1.14.0\", (\n",
        "    f\"found tf version {tf.__version__}, but need 1.14.0\")\n",
        "assert tf.test.is_gpu_available(), (\n",
        "    \"GPU not available. please use a GPU runtime\")"
      ],
      "execution_count": 0,
      "outputs": []
    },
    {
      "cell_type": "markdown",
      "metadata": {
        "id": "fTlzHg_xMnNz",
        "colab_type": "text"
      },
      "source": [
        "# Computing sentence encodings\n",
        "\n",
        "The default signature for the encoder model encodes sentences to a meaningful semantic space. Sentences can be compared for semantic similarity in this space, and NLP classifiers can be trained on top of these encodings.\n",
        "\n",
        "This section demonstrates encoding texts with the encoder, and computing similarities."
      ]
    },
    {
      "cell_type": "code",
      "metadata": {
        "id": "mLRhwAmSAhAp",
        "colab_type": "code",
        "outputId": "c3408113-717c-4fae-81dd-31fc0815b578",
        "colab": {
          "base_uri": "https://localhost:8080/",
          "height": 68
        }
      },
      "source": [
        "# Load the tensorflow hub module into a fresh session.\n",
        "\n",
        "if sess is not None:\n",
        "    sess.close()\n",
        "\n",
        "sess = tf.InteractiveSession(graph=tf.Graph())\n",
        "\n",
        "module = tfhub.Module(\"http://models.poly-ai.com/encoder/v1/model.tar.gz\")\n",
        "\n",
        "text_placeholder = tf.placeholder(dtype=tf.string, shape=[None])\n",
        "encoding_tensor = module(text_placeholder)\n",
        "encoding_dim = int(encoding_tensor.shape[1])\n",
        "print(f\"encoder encodes text to {encoding_dim}-dimensional vectors\")\n",
        "\n",
        "sess.run(tf.tables_initializer())\n",
        "sess.run(tf.global_variables_initializer())\n",
        "\n",
        "\n",
        "def encode(texts):\n",
        "    \"\"\"Encode the given texts to the encoding space.\"\"\"\n",
        "    return sess.run(encoding_tensor, feed_dict={text_placeholder: texts})"
      ],
      "execution_count": 3,
      "outputs": [
        {
          "output_type": "stream",
          "text": [
            "INFO:tensorflow:Saver not created because there are no variables in the graph to restore\n"
          ],
          "name": "stdout"
        },
        {
          "output_type": "stream",
          "text": [
            "INFO:tensorflow:Saver not created because there are no variables in the graph to restore\n"
          ],
          "name": "stderr"
        },
        {
          "output_type": "stream",
          "text": [
            "encoder encodes text to 1024-dimensional vectors\n"
          ],
          "name": "stdout"
        }
      ]
    },
    {
      "cell_type": "code",
      "metadata": {
        "id": "BFGC5EITDoqU",
        "colab_type": "code",
        "outputId": "9aef1a59-c53b-4321-e7b9-ca81fe20fd39",
        "colab": {
          "base_uri": "https://localhost:8080/",
          "height": 392
        }
      },
      "source": [
        "# Compute the similarity between a collection of sentences.\n",
        "\n",
        "import numpy as np\n",
        "from sklearn.metrics import pairwise\n",
        "import seaborn\n",
        "\n",
        "texts = [\n",
        "         # booking a ride\n",
        "         \"can i book a car?\",\n",
        "         \"i need a ride from my place\",\n",
        "         \"book a taxi\",\n",
        "\n",
        "         # asking for ETA\n",
        "         \"when will it arrive?\",\n",
        "         \"what is the ETA?\",\n",
        "         \"when will it be here?\",\n",
        "\n",
        "         # asking to talk to a human\n",
        "         \"can i talk to a real person\",\n",
        "         \"i don't want to talk to a robot.\",\n",
        "         \"let me speak to a human.\",\n",
        "]\n",
        "\n",
        "# Pad with \"\" to make heatmap display better.\n",
        "texts = [\"\"] + texts + [\"\"]\n",
        "\n",
        "encodings = encode(texts)\n",
        "\n",
        "similarities = pairwise.cosine_similarity(encodings)\n",
        "seaborn.set(font_scale=0.8)\n",
        "g = seaborn.heatmap(\n",
        "    similarities,\n",
        "    xticklabels=texts,\n",
        "    yticklabels=texts,\n",
        "    vmin=0.,\n",
        "    vmax=1.,\n",
        "    cmap=\"BuGn\",\n",
        "    square=True,\n",
        ")"
      ],
      "execution_count": 97,
      "outputs": [
        {
          "output_type": "display_data",
          "data": {
            "image/png": "[encoded data removed]",
            "text/plain": [
              "<Figure size 432x288 with 2 Axes>"
            ]
          },
          "metadata": {
            "tags": []
          }
        }
      ]
    },
    {
      "cell_type": "markdown",
      "metadata": {
        "id": "URPyrfw0nT0x",
        "colab_type": "text"
      },
      "source": [
        "# Response Ranking\n",
        "\n",
        "The PolyAI encoder is trained on the response ranking task, so it can be used to find good responses to a given conversational context.\n",
        "\n",
        "This section demonstrates how to rank responses, by computing cosine similarities of context and response representations in the shared response ranking space. Response representations for a fixed candidate list are first pre-computed. When a new context is provided, it is encoded and then compared to the pre-computed response representations."
      ]
    },
    {
      "cell_type": "code",
      "metadata": {
        "id": "Ocu1flTekqbU",
        "colab_type": "code",
        "colab": {
          "base_uri": "https://localhost:8080/",
          "height": 102
        },
        "outputId": "88f1408d-ae41-4558-860a-fe7f4c5f6e94"
      },
      "source": [
        "if sess is not None:\n",
        "    sess.close()\n",
        "\n",
        "sess = tf.InteractiveSession(graph=tf.Graph())\n",
        "\n",
        "module = tfhub.Module(\"http://models.poly-ai.com/encoder/v1/model.tar.gz\")\n",
        "\n",
        "text_placeholder = tf.placeholder(dtype=tf.string, shape=[None])\n",
        "context_encoding_tensor = module(text_placeholder, signature=\"encode_context\")\n",
        "response_encoding_tensor = module(text_placeholder, signature=\"encode_response\")\n",
        "\n",
        "encoding_dim = int(context_encoding_tensor.shape[1])\n",
        "print(f\"encoder encodes contexts & responses to {encoding_dim}-dimensional vectors\")\n",
        "\n",
        "sess.run(tf.tables_initializer())\n",
        "sess.run(tf.global_variables_initializer())\n",
        "\n",
        "def encode_contexts(texts):\n",
        "    return sess.run(context_encoding_tensor, feed_dict={text_placeholder: text})\n",
        "\n",
        "def encode_responses(texts):\n",
        "    return sess.run(response_encoding_tensor, feed_dict={text_placeholder: texts})"
      ],
      "execution_count": 9,
      "outputs": [
        {
          "output_type": "stream",
          "text": [
            "INFO:tensorflow:Saver not created because there are no variables in the graph to restore\n"
          ],
          "name": "stdout"
        },
        {
          "output_type": "stream",
          "text": [
            "INFO:tensorflow:Saver not created because there are no variables in the graph to restore\n"
          ],
          "name": "stderr"
        },
        {
          "output_type": "stream",
          "text": [
            "INFO:tensorflow:Saver not created because there are no variables in the graph to restore\n"
          ],
          "name": "stdout"
        },
        {
          "output_type": "stream",
          "text": [
            "INFO:tensorflow:Saver not created because there are no variables in the graph to restore\n"
          ],
          "name": "stderr"
        },
        {
          "output_type": "stream",
          "text": [
            "encoder encodes contexts & responses to 512-dimensional vectors\n"
          ],
          "name": "stdout"
        }
      ]
    },
    {
      "cell_type": "code",
      "metadata": {
        "id": "p5EIo6dsnt_V",
        "colab_type": "code",
        "colab": {
          "base_uri": "https://localhost:8080/",
          "height": 34
        },
        "outputId": "6c800b81-1bb3-444a-982d-64a280933e08"
      },
      "source": [
        "# Pre-encode responses.\n",
        "# Download a file of random facts to serve as candidate responses for the demo.\n",
        "!wget -q https://raw.githubusercontent.com/assaf/dailyhi/master/facts.txt -O facts.txt\n",
        "\n",
        "import numpy as np\n",
        "\n",
        "responses = []\n",
        "with open(\"facts.txt\") as f:\n",
        "    for line in f:\n",
        "        responses.append(line.strip())\n",
        "\n",
        "# Encode the responses in batches of 64.\n",
        "batch_size = 64\n",
        "response_encodings = []\n",
        "for i in range(0, len(responses), batch_size):\n",
        "    batch = responses[i:i + batch_size]\n",
        "    response_encodings.append(encode_responses(batch))\n",
        "\n",
        "response_encodings = np.concatenate(response_encodings)\n",
        "print(f\"Encoded {response_encodings.shape[0]} candidate responses.\")"
      ],
      "execution_count": 19,
      "outputs": [
        {
          "output_type": "stream",
          "text": [
            "Encoded 3090 candidate responses.\n"
          ],
          "name": "stdout"
        }
      ]
    },
    {
      "cell_type": "code",
      "metadata": {
        "id": "RkBdMitBrA5u",
        "colab_type": "code",
        "colab": {
          "base_uri": "https://localhost:8080/",
          "height": 34
        },
        "cellView": "both",
        "outputId": "1a79bc55-7e85-4958-b4e4-5d0c9f97fa0d"
      },
      "source": [
        "#@title Rank responses { run: \"auto\" }\n",
        "#@markdown Find the best response in a list of around 3 thousand random facts. \n",
        "context = \"tell me something interesting about birds\" # @param\n",
        "context_encoding = encode_contexts([context])\n",
        "scores = np.dot(response_encodings, context_encoding.T)\n",
        "top_index = np.argmax(scores)\n",
        "top_score = float(scores[top_index])\n",
        "print(f\"[{top_score:.3f}] {responses[top_index]}\")"
      ],
      "execution_count": 59,
      "outputs": [
        {
          "output_type": "stream",
          "text": [
            "[0.417] The oldest bird on record was Cocky, a cockatoo, who died in the London Zoo at the age of 82\n"
          ],
          "name": "stdout"
        }
      ]
    }
  ]
}
